{
  "nbformat": 4,
  "nbformat_minor": 0,
  "metadata": {
    "colab": {
      "name": "LightGBM-JournalClub",
      "provenance": [],
      "collapsed_sections": [],
      "toc_visible": true,
      "authorship_tag": "ABX9TyMSMQ+fvabUD2Nqt1lpTVMq",
      "include_colab_link": true
    },
    "kernelspec": {
      "name": "python3",
      "display_name": "Python 3"
    },
    "language_info": {
      "name": "python"
    }
  },
  "cells": [
    {
      "cell_type": "markdown",
      "metadata": {
        "id": "view-in-github",
        "colab_type": "text"
      },
      "source": [
        "<a href=\"https://colab.research.google.com/github/Weichunchou/Hands-on-AI/blob/main/LightGBM_JournalClub.ipynb\" target=\"_parent\"><img src=\"https://colab.research.google.com/assets/colab-badge.svg\" alt=\"Open In Colab\"/></a>"
      ]
    },
    {
      "cell_type": "markdown",
      "source": [
        "# Tutorial for LightGBM"
      ],
      "metadata": {
        "id": "OHtdau0dDsfn"
      }
    },
    {
      "cell_type": "code",
      "source": [
        "## Connect the google colab with google drive\n",
        "from google.colab import drive\n",
        "drive.mount('/content/drive', force_remount=True)"
      ],
      "metadata": {
        "colab": {
          "base_uri": "https://localhost:8080/"
        },
        "id": "poY9f76OhxHR",
        "outputId": "cb1d139c-4e0e-4194-fb98-e55c304d5b18"
      },
      "execution_count": null,
      "outputs": [
        {
          "output_type": "stream",
          "name": "stdout",
          "text": [
            "Mounted at /content/drive\n"
          ]
        }
      ]
    },
    {
      "cell_type": "code",
      "execution_count": null,
      "metadata": {
        "colab": {
          "base_uri": "https://localhost:8080/"
        },
        "id": "XNLwThCDDeRE",
        "outputId": "0dc221b0-b0d1-4847-e752-2e30de57885b"
      },
      "outputs": [
        {
          "output_type": "stream",
          "name": "stdout",
          "text": [
            "\u001b[?25l\r\u001b[K     |███▎                            | 10 kB 30.9 MB/s eta 0:00:01\r\u001b[K     |██████▌                         | 20 kB 35.1 MB/s eta 0:00:01\r\u001b[K     |█████████▉                      | 30 kB 41.1 MB/s eta 0:00:01\r\u001b[K     |█████████████                   | 40 kB 18.1 MB/s eta 0:00:01\r\u001b[K     |████████████████▍               | 51 kB 14.8 MB/s eta 0:00:01\r\u001b[K     |███████████████████▋            | 61 kB 16.6 MB/s eta 0:00:01\r\u001b[K     |██████████████████████▉         | 71 kB 13.8 MB/s eta 0:00:01\r\u001b[K     |██████████████████████████▏     | 81 kB 14.9 MB/s eta 0:00:01\r\u001b[K     |█████████████████████████████▍  | 92 kB 16.3 MB/s eta 0:00:01\r\u001b[K     |████████████████████████████████| 100 kB 5.5 MB/s \n",
            "\u001b[?25h"
          ]
        }
      ],
      "source": [
        "#Install python packages to run this notebook\n",
        "!pip install -q lightgbm # install the lightgbm package\n",
        "!pip install -q scikit-optimize # install the package used for Bayesian optimization"
      ]
    },
    {
      "cell_type": "code",
      "source": [
        "#Install basic python pcakges\n",
        "import math\n",
        "import numpy as np\n",
        "import pandas as pd\n",
        "import matplotlib.pyplot as plt\n",
        "%matplotlib inline\n",
        "import os\n",
        "import lightgbm as lgb\n",
        "from sklearn.model_selection import train_test_split, cross_val_score, cross_val_predict\n",
        "from sklearn.metrics import mean_squared_log_error\n",
        "from sklearn import preprocessing\n",
        "from sklearn.preprocessing import StandardScaler\n",
        "from time import time\n"
      ],
      "metadata": {
        "id": "K360d6V_D6sP"
      },
      "execution_count": null,
      "outputs": []
    },
    {
      "cell_type": "markdown",
      "source": [
        "Set your working directory to a speicifc folder in your Google Drive"
      ],
      "metadata": {
        "id": "-VWRQgoLGi6_"
      }
    },
    {
      "cell_type": "code",
      "source": [
        "# Set your working directory to a speicifc folder in your Google Drive\n",
        "# The base Google Drive directory\n",
        "root_dir = \"/content/drive/My Drive/\"\n",
        "\n",
        "# choose where you want your project files to be saved\n",
        "project_folder = \"Colab Notebooks/Test Folder/\" # Name your project here. Please instead the \"my project folder\" to your prefer name\n",
        "\n",
        "# Make sure that floder exists. If not, automatically create a new folder\n",
        "if (not os.path.isdir(root_dir + project_folder)):\n",
        "  os.mkdir(root_dir + project_folder)\n",
        "  print(root_dir + project_folder + 'did not exist but was created.')\n",
        "\n",
        "# Change the OS to use your project folder as the working directory\n",
        "os.chdir(root_dir + project_folder)"
      ],
      "metadata": {
        "id": "Nf-0_FdFEguZ"
      },
      "execution_count": null,
      "outputs": []
    },
    {
      "cell_type": "markdown",
      "source": [
        "If you have your own data, you can use the following code:"
      ],
      "metadata": {
        "id": "5b3mu766ZSTj"
      }
    },
    {
      "cell_type": "code",
      "source": [
        "# importer Data\n",
        "Data = pd.read_csv(os.path.join(root_dir + project_folder + \"data.csv\"))"
      ],
      "metadata": {
        "id": "bzIfmSzCJiut"
      },
      "execution_count": null,
      "outputs": []
    },
    {
      "cell_type": "code",
      "source": [
        "## Qickly check the description of data\n",
        "Data.info()"
      ],
      "metadata": {
        "id": "LKqd4F0RaaS7"
      },
      "execution_count": null,
      "outputs": []
    },
    {
      "cell_type": "code",
      "source": [
        "# Check the data strcuture\n",
        "Data.describe()"
      ],
      "metadata": {
        "colab": {
          "base_uri": "https://localhost:8080/",
          "height": 364
        },
        "id": "ThIqAoSuahBu",
        "outputId": "3f781c7f-e92e-4d0b-ac40-8cdc68298db7"
      },
      "execution_count": null,
      "outputs": [
        {
          "output_type": "execute_result",
          "data": {
            "text/html": [
              "\n",
              "  <div id=\"df-21498530-c4a8-4235-a0e4-c2a4055fcee2\">\n",
              "    <div class=\"colab-df-container\">\n",
              "      <div>\n",
              "<style scoped>\n",
              "    .dataframe tbody tr th:only-of-type {\n",
              "        vertical-align: middle;\n",
              "    }\n",
              "\n",
              "    .dataframe tbody tr th {\n",
              "        vertical-align: top;\n",
              "    }\n",
              "\n",
              "    .dataframe thead th {\n",
              "        text-align: right;\n",
              "    }\n",
              "</style>\n",
              "<table border=\"1\" class=\"dataframe\">\n",
              "  <thead>\n",
              "    <tr style=\"text-align: right;\">\n",
              "      <th></th>\n",
              "      <th>AMID_N</th>\n",
              "      <th>ATSC6se</th>\n",
              "      <th>IC1</th>\n",
              "      <th>AATS1Z</th>\n",
              "      <th>EState_VSA5</th>\n",
              "      <th>MATS2d</th>\n",
              "      <th>AETA_dBeta</th>\n",
              "      <th>GATS2v</th>\n",
              "      <th>ATSC7i</th>\n",
              "      <th>SMR_VSA3</th>\n",
              "      <th>BCUTp-1h</th>\n",
              "      <th>SMR_VSA5</th>\n",
              "      <th>AATS2m</th>\n",
              "      <th>fr_C_O_noCOO</th>\n",
              "      <th>ka</th>\n",
              "      <th>V1</th>\n",
              "      <th>CLh,int</th>\n",
              "    </tr>\n",
              "  </thead>\n",
              "  <tbody>\n",
              "    <tr>\n",
              "      <th>count</th>\n",
              "      <td>246.000000</td>\n",
              "      <td>246.000000</td>\n",
              "      <td>246.000000</td>\n",
              "      <td>246.000000</td>\n",
              "      <td>246.000000</td>\n",
              "      <td>246.000000</td>\n",
              "      <td>246.000000</td>\n",
              "      <td>246.000000</td>\n",
              "      <td>246.000000</td>\n",
              "      <td>246.000000</td>\n",
              "      <td>246.000000</td>\n",
              "      <td>246.000000</td>\n",
              "      <td>246.000000</td>\n",
              "      <td>246.000000</td>\n",
              "      <td>246.000000</td>\n",
              "      <td>246.00000</td>\n",
              "      <td>246.000000</td>\n",
              "    </tr>\n",
              "    <tr>\n",
              "      <th>mean</th>\n",
              "      <td>0.147122</td>\n",
              "      <td>-0.212010</td>\n",
              "      <td>2.987837</td>\n",
              "      <td>28.745528</td>\n",
              "      <td>8.699959</td>\n",
              "      <td>-0.088836</td>\n",
              "      <td>-0.067620</td>\n",
              "      <td>0.964167</td>\n",
              "      <td>-5.379474</td>\n",
              "      <td>4.871667</td>\n",
              "      <td>2.199065</td>\n",
              "      <td>25.845203</td>\n",
              "      <td>104.122764</td>\n",
              "      <td>0.695122</td>\n",
              "      <td>5.477195</td>\n",
              "      <td>0.60547</td>\n",
              "      <td>20.068565</td>\n",
              "    </tr>\n",
              "    <tr>\n",
              "      <th>std</th>\n",
              "      <td>0.159211</td>\n",
              "      <td>1.105102</td>\n",
              "      <td>0.643261</td>\n",
              "      <td>11.398129</td>\n",
              "      <td>10.950565</td>\n",
              "      <td>0.154233</td>\n",
              "      <td>0.259019</td>\n",
              "      <td>0.173599</td>\n",
              "      <td>21.014294</td>\n",
              "      <td>6.598248</td>\n",
              "      <td>0.465215</td>\n",
              "      <td>31.186039</td>\n",
              "      <td>90.441095</td>\n",
              "      <td>0.990020</td>\n",
              "      <td>11.312643</td>\n",
              "      <td>0.46932</td>\n",
              "      <td>70.256843</td>\n",
              "    </tr>\n",
              "    <tr>\n",
              "      <th>min</th>\n",
              "      <td>0.000000</td>\n",
              "      <td>-3.090000</td>\n",
              "      <td>0.918000</td>\n",
              "      <td>15.000000</td>\n",
              "      <td>0.000000</td>\n",
              "      <td>-0.600000</td>\n",
              "      <td>-0.667000</td>\n",
              "      <td>0.324000</td>\n",
              "      <td>-119.000000</td>\n",
              "      <td>0.000000</td>\n",
              "      <td>1.230000</td>\n",
              "      <td>0.000000</td>\n",
              "      <td>23.200000</td>\n",
              "      <td>0.000000</td>\n",
              "      <td>0.176000</td>\n",
              "      <td>0.01120</td>\n",
              "      <td>0.009350</td>\n",
              "    </tr>\n",
              "    <tr>\n",
              "      <th>25%</th>\n",
              "      <td>0.000000</td>\n",
              "      <td>-0.703000</td>\n",
              "      <td>2.700000</td>\n",
              "      <td>21.925000</td>\n",
              "      <td>0.000000</td>\n",
              "      <td>-0.188250</td>\n",
              "      <td>-0.229250</td>\n",
              "      <td>0.873000</td>\n",
              "      <td>-9.565000</td>\n",
              "      <td>0.000000</td>\n",
              "      <td>1.980000</td>\n",
              "      <td>6.420000</td>\n",
              "      <td>64.275000</td>\n",
              "      <td>0.000000</td>\n",
              "      <td>1.480000</td>\n",
              "      <td>0.26925</td>\n",
              "      <td>0.433000</td>\n",
              "    </tr>\n",
              "    <tr>\n",
              "      <th>50%</th>\n",
              "      <td>0.119500</td>\n",
              "      <td>-0.042750</td>\n",
              "      <td>3.125000</td>\n",
              "      <td>25.750000</td>\n",
              "      <td>5.560000</td>\n",
              "      <td>-0.084600</td>\n",
              "      <td>-0.050750</td>\n",
              "      <td>0.958500</td>\n",
              "      <td>0.000000</td>\n",
              "      <td>0.000000</td>\n",
              "      <td>2.000000</td>\n",
              "      <td>18.900000</td>\n",
              "      <td>82.300000</td>\n",
              "      <td>0.000000</td>\n",
              "      <td>2.665000</td>\n",
              "      <td>0.49900</td>\n",
              "      <td>1.815000</td>\n",
              "    </tr>\n",
              "    <tr>\n",
              "      <th>75%</th>\n",
              "      <td>0.234750</td>\n",
              "      <td>0.142250</td>\n",
              "      <td>3.437500</td>\n",
              "      <td>30.175000</td>\n",
              "      <td>12.100000</td>\n",
              "      <td>0.023675</td>\n",
              "      <td>0.125000</td>\n",
              "      <td>1.067500</td>\n",
              "      <td>3.862500</td>\n",
              "      <td>9.780000</td>\n",
              "      <td>2.210000</td>\n",
              "      <td>37.475000</td>\n",
              "      <td>105.750000</td>\n",
              "      <td>1.000000</td>\n",
              "      <td>6.157500</td>\n",
              "      <td>0.81950</td>\n",
              "      <td>7.610000</td>\n",
              "    </tr>\n",
              "    <tr>\n",
              "      <th>max</th>\n",
              "      <td>0.768000</td>\n",
              "      <td>4.350000</td>\n",
              "      <td>4.600000</td>\n",
              "      <td>88.800000</td>\n",
              "      <td>45.100000</td>\n",
              "      <td>0.356000</td>\n",
              "      <td>0.563000</td>\n",
              "      <td>1.500000</td>\n",
              "      <td>51.700000</td>\n",
              "      <td>30.400000</td>\n",
              "      <td>5.360000</td>\n",
              "      <td>197.000000</td>\n",
              "      <td>913.000000</td>\n",
              "      <td>5.000000</td>\n",
              "      <td>158.000000</td>\n",
              "      <td>2.81000</td>\n",
              "      <td>527.000000</td>\n",
              "    </tr>\n",
              "  </tbody>\n",
              "</table>\n",
              "</div>\n",
              "      <button class=\"colab-df-convert\" onclick=\"convertToInteractive('df-21498530-c4a8-4235-a0e4-c2a4055fcee2')\"\n",
              "              title=\"Convert this dataframe to an interactive table.\"\n",
              "              style=\"display:none;\">\n",
              "        \n",
              "  <svg xmlns=\"http://www.w3.org/2000/svg\" height=\"24px\"viewBox=\"0 0 24 24\"\n",
              "       width=\"24px\">\n",
              "    <path d=\"M0 0h24v24H0V0z\" fill=\"none\"/>\n",
              "    <path d=\"M18.56 5.44l.94 2.06.94-2.06 2.06-.94-2.06-.94-.94-2.06-.94 2.06-2.06.94zm-11 1L8.5 8.5l.94-2.06 2.06-.94-2.06-.94L8.5 2.5l-.94 2.06-2.06.94zm10 10l.94 2.06.94-2.06 2.06-.94-2.06-.94-.94-2.06-.94 2.06-2.06.94z\"/><path d=\"M17.41 7.96l-1.37-1.37c-.4-.4-.92-.59-1.43-.59-.52 0-1.04.2-1.43.59L10.3 9.45l-7.72 7.72c-.78.78-.78 2.05 0 2.83L4 21.41c.39.39.9.59 1.41.59.51 0 1.02-.2 1.41-.59l7.78-7.78 2.81-2.81c.8-.78.8-2.07 0-2.86zM5.41 20L4 18.59l7.72-7.72 1.47 1.35L5.41 20z\"/>\n",
              "  </svg>\n",
              "      </button>\n",
              "      \n",
              "  <style>\n",
              "    .colab-df-container {\n",
              "      display:flex;\n",
              "      flex-wrap:wrap;\n",
              "      gap: 12px;\n",
              "    }\n",
              "\n",
              "    .colab-df-convert {\n",
              "      background-color: #E8F0FE;\n",
              "      border: none;\n",
              "      border-radius: 50%;\n",
              "      cursor: pointer;\n",
              "      display: none;\n",
              "      fill: #1967D2;\n",
              "      height: 32px;\n",
              "      padding: 0 0 0 0;\n",
              "      width: 32px;\n",
              "    }\n",
              "\n",
              "    .colab-df-convert:hover {\n",
              "      background-color: #E2EBFA;\n",
              "      box-shadow: 0px 1px 2px rgba(60, 64, 67, 0.3), 0px 1px 3px 1px rgba(60, 64, 67, 0.15);\n",
              "      fill: #174EA6;\n",
              "    }\n",
              "\n",
              "    [theme=dark] .colab-df-convert {\n",
              "      background-color: #3B4455;\n",
              "      fill: #D2E3FC;\n",
              "    }\n",
              "\n",
              "    [theme=dark] .colab-df-convert:hover {\n",
              "      background-color: #434B5C;\n",
              "      box-shadow: 0px 1px 3px 1px rgba(0, 0, 0, 0.15);\n",
              "      filter: drop-shadow(0px 1px 2px rgba(0, 0, 0, 0.3));\n",
              "      fill: #FFFFFF;\n",
              "    }\n",
              "  </style>\n",
              "\n",
              "      <script>\n",
              "        const buttonEl =\n",
              "          document.querySelector('#df-21498530-c4a8-4235-a0e4-c2a4055fcee2 button.colab-df-convert');\n",
              "        buttonEl.style.display =\n",
              "          google.colab.kernel.accessAllowed ? 'block' : 'none';\n",
              "\n",
              "        async function convertToInteractive(key) {\n",
              "          const element = document.querySelector('#df-21498530-c4a8-4235-a0e4-c2a4055fcee2');\n",
              "          const dataTable =\n",
              "            await google.colab.kernel.invokeFunction('convertToInteractive',\n",
              "                                                     [key], {});\n",
              "          if (!dataTable) return;\n",
              "\n",
              "          const docLinkHtml = 'Like what you see? Visit the ' +\n",
              "            '<a target=\"_blank\" href=https://colab.research.google.com/notebooks/data_table.ipynb>data table notebook</a>'\n",
              "            + ' to learn more about interactive tables.';\n",
              "          element.innerHTML = '';\n",
              "          dataTable['output_type'] = 'display_data';\n",
              "          await google.colab.output.renderOutput(dataTable, element);\n",
              "          const docLink = document.createElement('div');\n",
              "          docLink.innerHTML = docLinkHtml;\n",
              "          element.appendChild(docLink);\n",
              "        }\n",
              "      </script>\n",
              "    </div>\n",
              "  </div>\n",
              "  "
            ],
            "text/plain": [
              "           AMID_N     ATSC6se         IC1  ...          ka         V1     CLh,int\n",
              "count  246.000000  246.000000  246.000000  ...  246.000000  246.00000  246.000000\n",
              "mean     0.147122   -0.212010    2.987837  ...    5.477195    0.60547   20.068565\n",
              "std      0.159211    1.105102    0.643261  ...   11.312643    0.46932   70.256843\n",
              "min      0.000000   -3.090000    0.918000  ...    0.176000    0.01120    0.009350\n",
              "25%      0.000000   -0.703000    2.700000  ...    1.480000    0.26925    0.433000\n",
              "50%      0.119500   -0.042750    3.125000  ...    2.665000    0.49900    1.815000\n",
              "75%      0.234750    0.142250    3.437500  ...    6.157500    0.81950    7.610000\n",
              "max      0.768000    4.350000    4.600000  ...  158.000000    2.81000  527.000000\n",
              "\n",
              "[8 rows x 17 columns]"
            ]
          },
          "metadata": {},
          "execution_count": 13
        }
      ]
    },
    {
      "cell_type": "markdown",
      "source": [
        "# Data Cleaning  \n",
        "Most Machine leanring algorithms canot work with missing features. So, we need to use some functions to take care of them as following code:"
      ],
      "metadata": {
        "id": "opwxBY7AVG3v"
      }
    },
    {
      "cell_type": "code",
      "source": [
        "#from sklearn.impute import SimpleImputer\n",
        "#imputer = SimpleImputer(strategy=\"median\")\n",
        "\n",
        "# Since the median can only be computed on numerical attributes\n",
        "Data_num = Data.drop([\"Compound\",\"ka\",\"V1\",\"CLh,int\"], axis=1)\n",
        "Data_label_ka = Data[['ka']]\n",
        "Data_label_V1 = Data[['V1']]\n",
        "Data_label_CL = Data[['CLh,int']].rename(columns={'CLh,int':'CL'})\n"
      ],
      "metadata": {
        "id": "CGreRjciVaCZ"
      },
      "execution_count": null,
      "outputs": []
    },
    {
      "cell_type": "markdown",
      "source": [
        "# Feature Scaling"
      ],
      "metadata": {
        "id": "cQDUf-kCZB-q"
      }
    },
    {
      "cell_type": "markdown",
      "source": [
        "## Transformation Pipelines"
      ],
      "metadata": {
        "id": "zqOjjH4rbCMz"
      }
    },
    {
      "cell_type": "code",
      "source": [
        "from sklearn.pipeline import Pipeline\n",
        "from sklearn.preprocessing import StandardScaler, MinMaxScaler\n",
        "from sklearn.impute import SimpleImputer\n",
        "\n",
        "\n",
        "num_pipeline = Pipeline([\n",
        "  #('imputer', SimpleImputer(strategy=\"median\")), \n",
        "  (('STD_scaler', StandardScaler())) # StandardScaler used for feature scaling\n",
        "])\n",
        "Data_num_tr = pd.DataFrame(num_pipeline.fit_transform(Data_num))\n",
        "Data_num_tr.columns = list(Data_num.columns)\n",
        "Data_num_tr"
      ],
      "metadata": {
        "id": "rN1EprjvbBRw",
        "colab": {
          "base_uri": "https://localhost:8080/",
          "height": 488
        },
        "outputId": "0af6c6ff-0590-4287-86f6-11fda90db066"
      },
      "execution_count": null,
      "outputs": [
        {
          "output_type": "execute_result",
          "data": {
            "text/html": [
              "\n",
              "  <div id=\"df-c29a94d1-4d16-4db3-a141-ee96f92317f6\">\n",
              "    <div class=\"colab-df-container\">\n",
              "      <div>\n",
              "<style scoped>\n",
              "    .dataframe tbody tr th:only-of-type {\n",
              "        vertical-align: middle;\n",
              "    }\n",
              "\n",
              "    .dataframe tbody tr th {\n",
              "        vertical-align: top;\n",
              "    }\n",
              "\n",
              "    .dataframe thead th {\n",
              "        text-align: right;\n",
              "    }\n",
              "</style>\n",
              "<table border=\"1\" class=\"dataframe\">\n",
              "  <thead>\n",
              "    <tr style=\"text-align: right;\">\n",
              "      <th></th>\n",
              "      <th>AMID_N</th>\n",
              "      <th>ATSC6se</th>\n",
              "      <th>IC1</th>\n",
              "      <th>AATS1Z</th>\n",
              "      <th>EState_VSA5</th>\n",
              "      <th>MATS2d</th>\n",
              "      <th>AETA_dBeta</th>\n",
              "      <th>GATS2v</th>\n",
              "      <th>ATSC7i</th>\n",
              "      <th>SMR_VSA3</th>\n",
              "      <th>BCUTp-1h</th>\n",
              "      <th>SMR_VSA5</th>\n",
              "      <th>AATS2m</th>\n",
              "      <th>fr_C_O_noCOO</th>\n",
              "    </tr>\n",
              "  </thead>\n",
              "  <tbody>\n",
              "    <tr>\n",
              "      <th>0</th>\n",
              "      <td>0.200634</td>\n",
              "      <td>-0.136002</td>\n",
              "      <td>0.455116</td>\n",
              "      <td>-0.373235</td>\n",
              "      <td>0.951663</td>\n",
              "      <td>-0.657255</td>\n",
              "      <td>0.965675</td>\n",
              "      <td>0.495442</td>\n",
              "      <td>0.249790</td>\n",
              "      <td>-0.739833</td>\n",
              "      <td>-0.471850</td>\n",
              "      <td>-0.608086</td>\n",
              "      <td>-0.265051</td>\n",
              "      <td>0.308579</td>\n",
              "    </tr>\n",
              "    <tr>\n",
              "      <th>1</th>\n",
              "      <td>1.679674</td>\n",
              "      <td>0.192237</td>\n",
              "      <td>-1.336295</td>\n",
              "      <td>-0.593017</td>\n",
              "      <td>-0.239741</td>\n",
              "      <td>-3.320990</td>\n",
              "      <td>2.439607</td>\n",
              "      <td>1.130376</td>\n",
              "      <td>0.256513</td>\n",
              "      <td>-0.739833</td>\n",
              "      <td>-0.601086</td>\n",
              "      <td>-0.830432</td>\n",
              "      <td>-0.580816</td>\n",
              "      <td>-0.703561</td>\n",
              "    </tr>\n",
              "    <tr>\n",
              "      <th>2</th>\n",
              "      <td>0.389447</td>\n",
              "      <td>0.545866</td>\n",
              "      <td>0.782243</td>\n",
              "      <td>-0.408400</td>\n",
              "      <td>-0.347718</td>\n",
              "      <td>1.285322</td>\n",
              "      <td>0.068163</td>\n",
              "      <td>-0.110633</td>\n",
              "      <td>-0.001932</td>\n",
              "      <td>0.068086</td>\n",
              "      <td>-0.428772</td>\n",
              "      <td>0.644381</td>\n",
              "      <td>-0.304937</td>\n",
              "      <td>2.332859</td>\n",
              "    </tr>\n",
              "    <tr>\n",
              "      <th>3</th>\n",
              "      <td>1.484567</td>\n",
              "      <td>-0.045328</td>\n",
              "      <td>0.408383</td>\n",
              "      <td>0.013580</td>\n",
              "      <td>-0.796096</td>\n",
              "      <td>1.165129</td>\n",
              "      <td>0.876698</td>\n",
              "      <td>-0.878327</td>\n",
              "      <td>0.002359</td>\n",
              "      <td>1.507760</td>\n",
              "      <td>0.023553</td>\n",
              "      <td>-0.396664</td>\n",
              "      <td>-0.023519</td>\n",
              "      <td>-0.703561</td>\n",
              "    </tr>\n",
              "    <tr>\n",
              "      <th>4</th>\n",
              "      <td>-0.069999</td>\n",
              "      <td>0.155061</td>\n",
              "      <td>-1.476492</td>\n",
              "      <td>-0.496313</td>\n",
              "      <td>-0.287324</td>\n",
              "      <td>-0.030303</td>\n",
              "      <td>1.824502</td>\n",
              "      <td>0.437720</td>\n",
              "      <td>0.456308</td>\n",
              "      <td>-0.739833</td>\n",
              "      <td>-0.428772</td>\n",
              "      <td>-0.830432</td>\n",
              "      <td>-0.333744</td>\n",
              "      <td>-0.703561</td>\n",
              "    </tr>\n",
              "    <tr>\n",
              "      <th>...</th>\n",
              "      <td>...</td>\n",
              "      <td>...</td>\n",
              "      <td>...</td>\n",
              "      <td>...</td>\n",
              "      <td>...</td>\n",
              "      <td>...</td>\n",
              "      <td>...</td>\n",
              "      <td>...</td>\n",
              "      <td>...</td>\n",
              "      <td>...</td>\n",
              "      <td>...</td>\n",
              "      <td>...</td>\n",
              "      <td>...</td>\n",
              "      <td>...</td>\n",
              "    </tr>\n",
              "    <tr>\n",
              "      <th>241</th>\n",
              "      <td>-0.925955</td>\n",
              "      <td>-0.850512</td>\n",
              "      <td>0.050101</td>\n",
              "      <td>-0.408400</td>\n",
              "      <td>-0.796096</td>\n",
              "      <td>-0.631268</td>\n",
              "      <td>1.035310</td>\n",
              "      <td>-0.202987</td>\n",
              "      <td>0.461553</td>\n",
              "      <td>-0.739833</td>\n",
              "      <td>-0.450311</td>\n",
              "      <td>-0.608086</td>\n",
              "      <td>-0.270591</td>\n",
              "      <td>-0.703561</td>\n",
              "    </tr>\n",
              "    <tr>\n",
              "      <th>242</th>\n",
              "      <td>-0.925955</td>\n",
              "      <td>-0.277453</td>\n",
              "      <td>-1.383027</td>\n",
              "      <td>1.103696</td>\n",
              "      <td>-0.796096</td>\n",
              "      <td>-0.501329</td>\n",
              "      <td>-2.225910</td>\n",
              "      <td>0.957212</td>\n",
              "      <td>0.226043</td>\n",
              "      <td>-0.739833</td>\n",
              "      <td>-0.665704</td>\n",
              "      <td>0.907855</td>\n",
              "      <td>1.051189</td>\n",
              "      <td>-0.703561</td>\n",
              "    </tr>\n",
              "    <tr>\n",
              "      <th>243</th>\n",
              "      <td>-0.925955</td>\n",
              "      <td>0.192237</td>\n",
              "      <td>-1.538802</td>\n",
              "      <td>3.802611</td>\n",
              "      <td>-0.796096</td>\n",
              "      <td>-1.456375</td>\n",
              "      <td>1.549832</td>\n",
              "      <td>-1.738375</td>\n",
              "      <td>0.256513</td>\n",
              "      <td>-0.739833</td>\n",
              "      <td>1.854391</td>\n",
              "      <td>-0.830432</td>\n",
              "      <td>2.967936</td>\n",
              "      <td>-0.703561</td>\n",
              "    </tr>\n",
              "    <tr>\n",
              "      <th>244</th>\n",
              "      <td>-0.925955</td>\n",
              "      <td>-0.850512</td>\n",
              "      <td>-1.445337</td>\n",
              "      <td>-0.962249</td>\n",
              "      <td>-0.796096</td>\n",
              "      <td>0.032717</td>\n",
              "      <td>-1.092413</td>\n",
              "      <td>1.996197</td>\n",
              "      <td>0.366186</td>\n",
              "      <td>-0.739833</td>\n",
              "      <td>-0.687243</td>\n",
              "      <td>0.438742</td>\n",
              "      <td>-0.678315</td>\n",
              "      <td>-0.703561</td>\n",
              "    </tr>\n",
              "    <tr>\n",
              "      <th>245</th>\n",
              "      <td>0.918126</td>\n",
              "      <td>-0.402583</td>\n",
              "      <td>1.280723</td>\n",
              "      <td>0.224570</td>\n",
              "      <td>-0.287324</td>\n",
              "      <td>0.288695</td>\n",
              "      <td>0.583846</td>\n",
              "      <td>-0.456961</td>\n",
              "      <td>0.413869</td>\n",
              "      <td>0.774255</td>\n",
              "      <td>1.552841</td>\n",
              "      <td>-0.219943</td>\n",
              "      <td>0.098355</td>\n",
              "      <td>-0.703561</td>\n",
              "    </tr>\n",
              "  </tbody>\n",
              "</table>\n",
              "<p>246 rows × 14 columns</p>\n",
              "</div>\n",
              "      <button class=\"colab-df-convert\" onclick=\"convertToInteractive('df-c29a94d1-4d16-4db3-a141-ee96f92317f6')\"\n",
              "              title=\"Convert this dataframe to an interactive table.\"\n",
              "              style=\"display:none;\">\n",
              "        \n",
              "  <svg xmlns=\"http://www.w3.org/2000/svg\" height=\"24px\"viewBox=\"0 0 24 24\"\n",
              "       width=\"24px\">\n",
              "    <path d=\"M0 0h24v24H0V0z\" fill=\"none\"/>\n",
              "    <path d=\"M18.56 5.44l.94 2.06.94-2.06 2.06-.94-2.06-.94-.94-2.06-.94 2.06-2.06.94zm-11 1L8.5 8.5l.94-2.06 2.06-.94-2.06-.94L8.5 2.5l-.94 2.06-2.06.94zm10 10l.94 2.06.94-2.06 2.06-.94-2.06-.94-.94-2.06-.94 2.06-2.06.94z\"/><path d=\"M17.41 7.96l-1.37-1.37c-.4-.4-.92-.59-1.43-.59-.52 0-1.04.2-1.43.59L10.3 9.45l-7.72 7.72c-.78.78-.78 2.05 0 2.83L4 21.41c.39.39.9.59 1.41.59.51 0 1.02-.2 1.41-.59l7.78-7.78 2.81-2.81c.8-.78.8-2.07 0-2.86zM5.41 20L4 18.59l7.72-7.72 1.47 1.35L5.41 20z\"/>\n",
              "  </svg>\n",
              "      </button>\n",
              "      \n",
              "  <style>\n",
              "    .colab-df-container {\n",
              "      display:flex;\n",
              "      flex-wrap:wrap;\n",
              "      gap: 12px;\n",
              "    }\n",
              "\n",
              "    .colab-df-convert {\n",
              "      background-color: #E8F0FE;\n",
              "      border: none;\n",
              "      border-radius: 50%;\n",
              "      cursor: pointer;\n",
              "      display: none;\n",
              "      fill: #1967D2;\n",
              "      height: 32px;\n",
              "      padding: 0 0 0 0;\n",
              "      width: 32px;\n",
              "    }\n",
              "\n",
              "    .colab-df-convert:hover {\n",
              "      background-color: #E2EBFA;\n",
              "      box-shadow: 0px 1px 2px rgba(60, 64, 67, 0.3), 0px 1px 3px 1px rgba(60, 64, 67, 0.15);\n",
              "      fill: #174EA6;\n",
              "    }\n",
              "\n",
              "    [theme=dark] .colab-df-convert {\n",
              "      background-color: #3B4455;\n",
              "      fill: #D2E3FC;\n",
              "    }\n",
              "\n",
              "    [theme=dark] .colab-df-convert:hover {\n",
              "      background-color: #434B5C;\n",
              "      box-shadow: 0px 1px 3px 1px rgba(0, 0, 0, 0.15);\n",
              "      filter: drop-shadow(0px 1px 2px rgba(0, 0, 0, 0.3));\n",
              "      fill: #FFFFFF;\n",
              "    }\n",
              "  </style>\n",
              "\n",
              "      <script>\n",
              "        const buttonEl =\n",
              "          document.querySelector('#df-c29a94d1-4d16-4db3-a141-ee96f92317f6 button.colab-df-convert');\n",
              "        buttonEl.style.display =\n",
              "          google.colab.kernel.accessAllowed ? 'block' : 'none';\n",
              "\n",
              "        async function convertToInteractive(key) {\n",
              "          const element = document.querySelector('#df-c29a94d1-4d16-4db3-a141-ee96f92317f6');\n",
              "          const dataTable =\n",
              "            await google.colab.kernel.invokeFunction('convertToInteractive',\n",
              "                                                     [key], {});\n",
              "          if (!dataTable) return;\n",
              "\n",
              "          const docLinkHtml = 'Like what you see? Visit the ' +\n",
              "            '<a target=\"_blank\" href=https://colab.research.google.com/notebooks/data_table.ipynb>data table notebook</a>'\n",
              "            + ' to learn more about interactive tables.';\n",
              "          element.innerHTML = '';\n",
              "          dataTable['output_type'] = 'display_data';\n",
              "          await google.colab.output.renderOutput(dataTable, element);\n",
              "          const docLink = document.createElement('div');\n",
              "          docLink.innerHTML = docLinkHtml;\n",
              "          element.appendChild(docLink);\n",
              "        }\n",
              "      </script>\n",
              "    </div>\n",
              "  </div>\n",
              "  "
            ],
            "text/plain": [
              "       AMID_N   ATSC6se       IC1  ...  SMR_VSA5    AATS2m  fr_C_O_noCOO\n",
              "0    0.200634 -0.136002  0.455116  ... -0.608086 -0.265051      0.308579\n",
              "1    1.679674  0.192237 -1.336295  ... -0.830432 -0.580816     -0.703561\n",
              "2    0.389447  0.545866  0.782243  ...  0.644381 -0.304937      2.332859\n",
              "3    1.484567 -0.045328  0.408383  ... -0.396664 -0.023519     -0.703561\n",
              "4   -0.069999  0.155061 -1.476492  ... -0.830432 -0.333744     -0.703561\n",
              "..        ...       ...       ...  ...       ...       ...           ...\n",
              "241 -0.925955 -0.850512  0.050101  ... -0.608086 -0.270591     -0.703561\n",
              "242 -0.925955 -0.277453 -1.383027  ...  0.907855  1.051189     -0.703561\n",
              "243 -0.925955  0.192237 -1.538802  ... -0.830432  2.967936     -0.703561\n",
              "244 -0.925955 -0.850512 -1.445337  ...  0.438742 -0.678315     -0.703561\n",
              "245  0.918126 -0.402583  1.280723  ... -0.219943  0.098355     -0.703561\n",
              "\n",
              "[246 rows x 14 columns]"
            ]
          },
          "metadata": {},
          "execution_count": 16
        }
      ]
    },
    {
      "cell_type": "code",
      "source": [
        "X = Data_num_tr\n",
        "y = Data_label_CL"
      ],
      "metadata": {
        "id": "gKTXcbS4jWCz"
      },
      "execution_count": null,
      "outputs": []
    },
    {
      "cell_type": "code",
      "source": [
        "y.describe()"
      ],
      "metadata": {
        "id": "eR76CHL-aG-n",
        "colab": {
          "base_uri": "https://localhost:8080/",
          "height": 300
        },
        "outputId": "838d4ff0-0d57-452b-ad9a-1c193eadbc0e"
      },
      "execution_count": null,
      "outputs": [
        {
          "output_type": "execute_result",
          "data": {
            "text/html": [
              "\n",
              "  <div id=\"df-9dd3855d-6796-456a-a454-3040e9ba6121\">\n",
              "    <div class=\"colab-df-container\">\n",
              "      <div>\n",
              "<style scoped>\n",
              "    .dataframe tbody tr th:only-of-type {\n",
              "        vertical-align: middle;\n",
              "    }\n",
              "\n",
              "    .dataframe tbody tr th {\n",
              "        vertical-align: top;\n",
              "    }\n",
              "\n",
              "    .dataframe thead th {\n",
              "        text-align: right;\n",
              "    }\n",
              "</style>\n",
              "<table border=\"1\" class=\"dataframe\">\n",
              "  <thead>\n",
              "    <tr style=\"text-align: right;\">\n",
              "      <th></th>\n",
              "      <th>CL</th>\n",
              "    </tr>\n",
              "  </thead>\n",
              "  <tbody>\n",
              "    <tr>\n",
              "      <th>count</th>\n",
              "      <td>246.000000</td>\n",
              "    </tr>\n",
              "    <tr>\n",
              "      <th>mean</th>\n",
              "      <td>20.068565</td>\n",
              "    </tr>\n",
              "    <tr>\n",
              "      <th>std</th>\n",
              "      <td>70.256843</td>\n",
              "    </tr>\n",
              "    <tr>\n",
              "      <th>min</th>\n",
              "      <td>0.009350</td>\n",
              "    </tr>\n",
              "    <tr>\n",
              "      <th>25%</th>\n",
              "      <td>0.433000</td>\n",
              "    </tr>\n",
              "    <tr>\n",
              "      <th>50%</th>\n",
              "      <td>1.815000</td>\n",
              "    </tr>\n",
              "    <tr>\n",
              "      <th>75%</th>\n",
              "      <td>7.610000</td>\n",
              "    </tr>\n",
              "    <tr>\n",
              "      <th>max</th>\n",
              "      <td>527.000000</td>\n",
              "    </tr>\n",
              "  </tbody>\n",
              "</table>\n",
              "</div>\n",
              "      <button class=\"colab-df-convert\" onclick=\"convertToInteractive('df-9dd3855d-6796-456a-a454-3040e9ba6121')\"\n",
              "              title=\"Convert this dataframe to an interactive table.\"\n",
              "              style=\"display:none;\">\n",
              "        \n",
              "  <svg xmlns=\"http://www.w3.org/2000/svg\" height=\"24px\"viewBox=\"0 0 24 24\"\n",
              "       width=\"24px\">\n",
              "    <path d=\"M0 0h24v24H0V0z\" fill=\"none\"/>\n",
              "    <path d=\"M18.56 5.44l.94 2.06.94-2.06 2.06-.94-2.06-.94-.94-2.06-.94 2.06-2.06.94zm-11 1L8.5 8.5l.94-2.06 2.06-.94-2.06-.94L8.5 2.5l-.94 2.06-2.06.94zm10 10l.94 2.06.94-2.06 2.06-.94-2.06-.94-.94-2.06-.94 2.06-2.06.94z\"/><path d=\"M17.41 7.96l-1.37-1.37c-.4-.4-.92-.59-1.43-.59-.52 0-1.04.2-1.43.59L10.3 9.45l-7.72 7.72c-.78.78-.78 2.05 0 2.83L4 21.41c.39.39.9.59 1.41.59.51 0 1.02-.2 1.41-.59l7.78-7.78 2.81-2.81c.8-.78.8-2.07 0-2.86zM5.41 20L4 18.59l7.72-7.72 1.47 1.35L5.41 20z\"/>\n",
              "  </svg>\n",
              "      </button>\n",
              "      \n",
              "  <style>\n",
              "    .colab-df-container {\n",
              "      display:flex;\n",
              "      flex-wrap:wrap;\n",
              "      gap: 12px;\n",
              "    }\n",
              "\n",
              "    .colab-df-convert {\n",
              "      background-color: #E8F0FE;\n",
              "      border: none;\n",
              "      border-radius: 50%;\n",
              "      cursor: pointer;\n",
              "      display: none;\n",
              "      fill: #1967D2;\n",
              "      height: 32px;\n",
              "      padding: 0 0 0 0;\n",
              "      width: 32px;\n",
              "    }\n",
              "\n",
              "    .colab-df-convert:hover {\n",
              "      background-color: #E2EBFA;\n",
              "      box-shadow: 0px 1px 2px rgba(60, 64, 67, 0.3), 0px 1px 3px 1px rgba(60, 64, 67, 0.15);\n",
              "      fill: #174EA6;\n",
              "    }\n",
              "\n",
              "    [theme=dark] .colab-df-convert {\n",
              "      background-color: #3B4455;\n",
              "      fill: #D2E3FC;\n",
              "    }\n",
              "\n",
              "    [theme=dark] .colab-df-convert:hover {\n",
              "      background-color: #434B5C;\n",
              "      box-shadow: 0px 1px 3px 1px rgba(0, 0, 0, 0.15);\n",
              "      filter: drop-shadow(0px 1px 2px rgba(0, 0, 0, 0.3));\n",
              "      fill: #FFFFFF;\n",
              "    }\n",
              "  </style>\n",
              "\n",
              "      <script>\n",
              "        const buttonEl =\n",
              "          document.querySelector('#df-9dd3855d-6796-456a-a454-3040e9ba6121 button.colab-df-convert');\n",
              "        buttonEl.style.display =\n",
              "          google.colab.kernel.accessAllowed ? 'block' : 'none';\n",
              "\n",
              "        async function convertToInteractive(key) {\n",
              "          const element = document.querySelector('#df-9dd3855d-6796-456a-a454-3040e9ba6121');\n",
              "          const dataTable =\n",
              "            await google.colab.kernel.invokeFunction('convertToInteractive',\n",
              "                                                     [key], {});\n",
              "          if (!dataTable) return;\n",
              "\n",
              "          const docLinkHtml = 'Like what you see? Visit the ' +\n",
              "            '<a target=\"_blank\" href=https://colab.research.google.com/notebooks/data_table.ipynb>data table notebook</a>'\n",
              "            + ' to learn more about interactive tables.';\n",
              "          element.innerHTML = '';\n",
              "          dataTable['output_type'] = 'display_data';\n",
              "          await google.colab.output.renderOutput(dataTable, element);\n",
              "          const docLink = document.createElement('div');\n",
              "          docLink.innerHTML = docLinkHtml;\n",
              "          element.appendChild(docLink);\n",
              "        }\n",
              "      </script>\n",
              "    </div>\n",
              "  </div>\n",
              "  "
            ],
            "text/plain": [
              "               CL\n",
              "count  246.000000\n",
              "mean    20.068565\n",
              "std     70.256843\n",
              "min      0.009350\n",
              "25%      0.433000\n",
              "50%      1.815000\n",
              "75%      7.610000\n",
              "max    527.000000"
            ]
          },
          "metadata": {},
          "execution_count": 18
        }
      ]
    },
    {
      "cell_type": "markdown",
      "source": [
        "#Select and Train a Model"
      ],
      "metadata": {
        "id": "EEctJ5HgdFI0"
      }
    },
    {
      "cell_type": "code",
      "source": [
        "from sklearn.model_selection import train_test_split\n",
        "\n",
        "X_train, X_test, y_train, y_test = train_test_split (X, y, test_size = 0.2, random_state = 42)"
      ],
      "metadata": {
        "id": "loZyKyY0dGih"
      },
      "execution_count": null,
      "outputs": []
    },
    {
      "cell_type": "code",
      "source": [
        "hyper_params = {\n",
        "    'task': 'train',\n",
        "    'boosting_type': 'gbdt',\n",
        "    'objective': 'regression',\n",
        "    'metric': ['l1','l2'],\n",
        "    'learning_rate': 0.05,\n",
        "    'feature_fraction': 0.9,\n",
        "    'bagging_fraction': 0.7,\n",
        "    'bagging_freq': 10,\n",
        "    'verbose': 0,\n",
        "    \"max_depth\": 8,\n",
        "    \"num_leaves\": 128,  \n",
        "    \"max_bin\": 512,\n",
        "    \"num_iterations\": 10000\n",
        "}"
      ],
      "metadata": {
        "id": "pklB0ff_G5SY"
      },
      "execution_count": null,
      "outputs": []
    },
    {
      "cell_type": "code",
      "source": [
        "gbm = lgb.LGBMRegressor(**hyper_params, random_state = 42)"
      ],
      "metadata": {
        "id": "eOIiPkzkq_Xm"
      },
      "execution_count": null,
      "outputs": []
    },
    {
      "cell_type": "code",
      "source": [
        "gbm.fit(X_train, y_train,\n",
        "        eval_set=[(X_test, y_test)],\n",
        "        eval_metric= 'l1',\n",
        "        early_stopping_rounds=1000)\n"
      ],
      "metadata": {
        "id": "qzfIhQIiyPeJ"
      },
      "execution_count": null,
      "outputs": []
    },
    {
      "cell_type": "code",
      "source": [
        "y_pred = gbm.predict(X_test, num_iteration=gbm.best_iteration_)"
      ],
      "metadata": {
        "id": "HKnLRt1FkxnE"
      },
      "execution_count": null,
      "outputs": []
    },
    {
      "cell_type": "code",
      "source": [
        "# Basic RMSE\n",
        "from sklearn.metrics import mean_absolute_error\n",
        "\n",
        "print('The rmse of prediction is:', round(mean_absolute_error(y_pred, y_test)**0.5, 5))"
      ],
      "metadata": {
        "colab": {
          "base_uri": "https://localhost:8080/"
        },
        "id": "fjh4ZUK4k0FX",
        "outputId": "8ec3d557-501d-4c7a-e369-df6142d26b59"
      },
      "execution_count": null,
      "outputs": [
        {
          "output_type": "stream",
          "name": "stdout",
          "text": [
            "The rmse of prediction is: 5.72337\n"
          ]
        }
      ]
    },
    {
      "cell_type": "code",
      "source": [
        "from sklearn.metrics import r2_score\n",
        "\n",
        "\n",
        "test_preds = gbm.predict(X_test)\n",
        "train_preds = gbm.predict(X_train)\n",
        "\n",
        "print(\"\\nTest R2 Score : %.2f\"%r2_score(y_test, test_preds))\n",
        "print(\"Train R2 Score : %.2f\"%r2_score(y_train, train_preds))"
      ],
      "metadata": {
        "colab": {
          "base_uri": "https://localhost:8080/"
        },
        "id": "Cq5x2KPwfAQX",
        "outputId": "38ad98a3-a285-4250-cbe1-d46f42b2b1ca"
      },
      "execution_count": null,
      "outputs": [
        {
          "output_type": "stream",
          "name": "stdout",
          "text": [
            "\n",
            "Test R2 Score : 0.17\n",
            "Train R2 Score : 0.35\n"
          ]
        }
      ]
    },
    {
      "cell_type": "markdown",
      "source": [
        "# Better Evaluation Using Cross-Validation"
      ],
      "metadata": {
        "id": "msN7uflAnZyv"
      }
    },
    {
      "cell_type": "code",
      "source": [
        "#Cross Validation\n",
        "\n",
        "from sklearn.model_selection import cross_val_score\n",
        "\n",
        "scores = cross_val_score(gbm, X_train, y_train,cv=5, verbose=1)\n",
        "\n",
        "gbm_rmse_scores = np.sqrt(-scores)"
      ],
      "metadata": {
        "id": "UHvCMN123Wf4"
      },
      "execution_count": null,
      "outputs": []
    },
    {
      "cell_type": "code",
      "source": [
        "## Define a fuction to report the values\n",
        "def display_scores (scores):\n",
        "\n",
        "  print(\"Scores:\", scores)\n",
        "  print(\"Mean\", scores.mean())\n",
        "  print(\"Standard dviation:\", scores.std())\n",
        "\n",
        "display_scores (gbm_rmse_scores)"
      ],
      "metadata": {
        "id": "_HNxezF9cdD9"
      },
      "execution_count": null,
      "outputs": []
    },
    {
      "cell_type": "code",
      "source": [
        "pd.Series(np.sqrt(-scores)).describe()"
      ],
      "metadata": {
        "id": "zOlfTg_-cf92"
      },
      "execution_count": null,
      "outputs": []
    },
    {
      "cell_type": "markdown",
      "source": [
        "# Fine-Tune Your Model  \n"
      ],
      "metadata": {
        "id": "Rfk4gcdGopOr"
      }
    },
    {
      "cell_type": "markdown",
      "source": [
        "## Grid Search"
      ],
      "metadata": {
        "id": "ZLVYa4atwOZM"
      }
    },
    {
      "cell_type": "code",
      "source": [
        "from sklearn.model_selection import RandomizedSearchCV\n",
        "from sklearn.model_selection import GridSearchCV\n",
        "\n",
        "## DEFINE A FUNCTION TO RUN BOTH GRIDSEARCH AND RANDOMSEARCH WITH CROSS-VALIDATION\n",
        "def algorithm_pipeline(X_train, X_test, y_train, y_test, \n",
        "            model, param_grid, cv=10, scoring_fit= 'neg_mean_squared_error', \n",
        "            search_mode = 'GridSearchCV', n_iterations = 0):\n",
        "  '''\n",
        "  A function to return corss-validated LightGBM model and evalauted metrics\n",
        "\n",
        "  Inputs:\n",
        "    scoring_fit: The parameters that control what metric to evaluate the model\n",
        "\n",
        "  '''\n",
        "  fitted_model = None\n",
        "  \n",
        "  if(search_mode == 'GridSearchCV'):\n",
        "    gs = GridSearchCV(\n",
        "        estimator = model,\n",
        "        param_grid = param_grid, \n",
        "        cv = cv, \n",
        "        n_jobs = -1, \n",
        "        scoring = scoring_fit\n",
        "    )\n",
        "    fitted_model = gs.fit(X_train, y_train)\n",
        "  \n",
        "  elif (search_mode == 'RandomizedSearchCV'):\n",
        "    rs = RandomizedSearchCV(\n",
        "        estimator=model,\n",
        "        param_distributions=param_grid, \n",
        "        cv=cv,\n",
        "        n_iter=n_iterations,\n",
        "        n_jobs=-1,\n",
        "        scoring = scoring_fit,\n",
        "        random_state = 42\n",
        "    )\n",
        "    \n",
        "    fitted_model = rs.fit(X_train, y_train)\n",
        "  \n",
        "  elif (search_mode == 'BayesSearchCV'):\n",
        "    bs = BayesSearchCV(\n",
        "        estimator=model,\n",
        "        search_spaces = param_grid,\n",
        "        cv = cv,\n",
        "        n_iter=n_iterations,\n",
        "        n_jobs = -1,\n",
        "        scoring=scoring_fit,\n",
        "        random_state = 42\n",
        "    )\n",
        "\n",
        "    fitted_model = bs.fit(X_train, y_train)\n",
        "        \n",
        "  if (search_mode == 'BayesSearchCV'):\n",
        "    pred = None\n",
        "  else:  \n",
        "    pred = fitted_model.predict(X_test)\n",
        "    \n",
        "  return fitted_model, pred"
      ],
      "metadata": {
        "id": "Mi3GeLRy_P1K"
      },
      "execution_count": null,
      "outputs": []
    },
    {
      "cell_type": "code",
      "source": [
        "# Grid search  hyperparameter tuning\n",
        "param_grid = {\n",
        "    'learning_rate': [0.005, 0.05, 0.5],\n",
        "    'metric': ['l1','l2'],\n",
        "    'max_depth': [3, 7, 10, None],\n",
        "    'n_estimators': [100,200,300],\n",
        "    'min_samples_split':[2,3,5,7,10],\n",
        "    'num_iterations': [10,100,300]\n",
        "}"
      ],
      "metadata": {
        "id": "puDP2qwWo1JH"
      },
      "execution_count": null,
      "outputs": []
    },
    {
      "cell_type": "code",
      "source": [
        "import time\n",
        "start = time.time()\n",
        "\n",
        "model = lgb.LGBMRegressor()\n",
        "\n",
        "model, pred = algorithm_pipeline(X_train, X_test, y_train, y_test, model, \n",
        "                 param_grid, cv=5)\n",
        "\n",
        "print(model.best_score_)\n",
        "print(model.best_params_)\n",
        "\n",
        "end = time.time()"
      ],
      "metadata": {
        "colab": {
          "base_uri": "https://localhost:8080/"
        },
        "id": "uuonoUdp-MrP",
        "outputId": "0fd2a23c-d9cb-4028-83b9-091eb9ed0a4b"
      },
      "execution_count": null,
      "outputs": [
        {
          "output_type": "stream",
          "name": "stdout",
          "text": [
            "0.2814978818359576\n",
            "{'learning_rate': 0.05, 'max_depth': 3, 'metric': 'l1', 'min_samples_split': 2, 'n_estimators': 100, 'num_iterations': 300}\n"
          ]
        }
      ]
    },
    {
      "cell_type": "code",
      "source": [
        "from sklearn.metrics import mean_squared_error\n",
        "\n",
        "print('best params')\n",
        "print(model.best_params_)\n",
        "preds_lgb_model = model.predict(X_test)\n",
        "rmse_lgb = np.sqrt(mean_squared_error(y_test, preds_lgb_model))\n",
        "print(\" RMSE: %f\" % (rmse_lgb ))"
      ],
      "metadata": {
        "colab": {
          "base_uri": "https://localhost:8080/"
        },
        "id": "y5Rt1vLirren",
        "outputId": "57d110e4-534f-41bd-afe8-e48620ae98be"
      },
      "execution_count": null,
      "outputs": [
        {
          "output_type": "stream",
          "name": "stdout",
          "text": [
            "best params\n",
            "{'learning_rate': 0.05, 'max_depth': 3, 'metric': 'l1', 'min_samples_split': 2, 'n_estimators': 100, 'num_iterations': 300}\n",
            " RMSE: 77.699111\n"
          ]
        }
      ]
    },
    {
      "cell_type": "code",
      "source": [
        "from sklearn.metrics import r2_score\n",
        "\n",
        "\n",
        "test_preds = model.predict(X_test)\n",
        "train_preds = model.predict(X_train)\n",
        "\n",
        "print(\"\\nTest R2 Score : %.2f\"%r2_score(y_test, test_preds))\n",
        "print(\"Train R2 Score : %.2f\"%r2_score(y_train, train_preds))"
      ],
      "metadata": {
        "colab": {
          "base_uri": "https://localhost:8080/"
        },
        "id": "EdNGQH4_g_ts",
        "outputId": "731f8f97-115c-4e90-f365-8b1c0e6693d7"
      },
      "execution_count": null,
      "outputs": [
        {
          "output_type": "stream",
          "name": "stdout",
          "text": [
            "\n",
            "Test R2 Score : 0.21\n",
            "Train R2 Score : 0.84\n"
          ]
        }
      ]
    },
    {
      "cell_type": "markdown",
      "source": [
        "## Random Search"
      ],
      "metadata": {
        "id": "YL5s-dOl6gxX"
      }
    },
    {
      "cell_type": "code",
      "source": [
        "# Random search hyperparameter tuning\n",
        "param_grid = {\n",
        "    'n_estimators': [10, 100, 100, 1000, 5000],\n",
        "    'num_leaves' : [20, 40, 60, 80, 100],\n",
        "    'min_child_samples': [10, 20, 50, 100],\n",
        "    'learning_rate': [0.001, 0.01, 0.1],\n",
        "    'max_depth': [-1,5,10,100, 500],\n",
        "    'min_split_gain': [0, 10, 50, 100],\n",
        "    'reg_alpha':[0, 0.001, 0.01, 0.1],\n",
        "    'reg_lambda':[0, 0.001, 0.01, 0.1]\n",
        "}"
      ],
      "metadata": {
        "id": "wpF3i5-8M4ng"
      },
      "execution_count": null,
      "outputs": []
    },
    {
      "cell_type": "code",
      "source": [
        "import time\n",
        "start = time.time()\n",
        "\n",
        "model = lgb.LGBMRegressor()\n",
        "\n",
        "model, pred = algorithm_pipeline(X_train, X_test, y_train, y_test, model, \n",
        "                 param_grid, search_mode = 'RandomizedSearchCV',\n",
        "                 scoring_fit='r2',\n",
        "                 cv = 5, n_iterations = 100)\n",
        "\n",
        "print(model.best_score_)\n",
        "print(model.best_params_)\n",
        "\n",
        "end = time.time()"
      ],
      "metadata": {
        "colab": {
          "base_uri": "https://localhost:8080/",
          "height": 381
        },
        "id": "m4RCFdLa6lkT",
        "outputId": "7b5c030e-96c2-456b-fd66-6eeb56a1b6f4"
      },
      "execution_count": null,
      "outputs": [
        {
          "output_type": "error",
          "ename": "KeyboardInterrupt",
          "evalue": "ignored",
          "traceback": [
            "\u001b[0;31m---------------------------------------------------------------------------\u001b[0m",
            "\u001b[0;31mKeyboardInterrupt\u001b[0m                         Traceback (most recent call last)",
            "\u001b[0;32m<ipython-input-127-17feefe13a7a>\u001b[0m in \u001b[0;36m<module>\u001b[0;34m()\u001b[0m\n\u001b[1;32m      7\u001b[0m                  \u001b[0mparam_grid\u001b[0m\u001b[0;34m,\u001b[0m \u001b[0msearch_mode\u001b[0m \u001b[0;34m=\u001b[0m \u001b[0;34m'RandomizedSearchCV'\u001b[0m\u001b[0;34m,\u001b[0m\u001b[0;34m\u001b[0m\u001b[0;34m\u001b[0m\u001b[0m\n\u001b[1;32m      8\u001b[0m                  \u001b[0mscoring_fit\u001b[0m\u001b[0;34m=\u001b[0m\u001b[0;34m'r2'\u001b[0m\u001b[0;34m,\u001b[0m\u001b[0;34m\u001b[0m\u001b[0;34m\u001b[0m\u001b[0m\n\u001b[0;32m----> 9\u001b[0;31m                  cv = 5, n_iterations = 100)\n\u001b[0m\u001b[1;32m     10\u001b[0m \u001b[0;34m\u001b[0m\u001b[0m\n\u001b[1;32m     11\u001b[0m \u001b[0mprint\u001b[0m\u001b[0;34m(\u001b[0m\u001b[0mmodel\u001b[0m\u001b[0;34m.\u001b[0m\u001b[0mbest_score_\u001b[0m\u001b[0;34m)\u001b[0m\u001b[0;34m\u001b[0m\u001b[0;34m\u001b[0m\u001b[0m\n",
            "\u001b[0;32m<ipython-input-122-8e2ad84453f5>\u001b[0m in \u001b[0;36malgorithm_pipeline\u001b[0;34m(X_train, X_test, y_train, y_test, model, param_grid, cv, scoring_fit, search_mode, n_iterations)\u001b[0m\n\u001b[1;32m     36\u001b[0m     )\n\u001b[1;32m     37\u001b[0m \u001b[0;34m\u001b[0m\u001b[0m\n\u001b[0;32m---> 38\u001b[0;31m     \u001b[0mfitted_model\u001b[0m \u001b[0;34m=\u001b[0m \u001b[0mrs\u001b[0m\u001b[0;34m.\u001b[0m\u001b[0mfit\u001b[0m\u001b[0;34m(\u001b[0m\u001b[0mX_train\u001b[0m\u001b[0;34m,\u001b[0m \u001b[0my_train\u001b[0m\u001b[0;34m)\u001b[0m\u001b[0;34m\u001b[0m\u001b[0;34m\u001b[0m\u001b[0m\n\u001b[0m\u001b[1;32m     39\u001b[0m \u001b[0;34m\u001b[0m\u001b[0m\n\u001b[1;32m     40\u001b[0m   \u001b[0;32melif\u001b[0m \u001b[0;34m(\u001b[0m\u001b[0msearch_mode\u001b[0m \u001b[0;34m==\u001b[0m \u001b[0;34m'BayesSearchCV'\u001b[0m\u001b[0;34m)\u001b[0m\u001b[0;34m:\u001b[0m\u001b[0;34m\u001b[0m\u001b[0;34m\u001b[0m\u001b[0m\n",
            "\u001b[0;32m/usr/local/lib/python3.7/dist-packages/sklearn/model_selection/_search.py\u001b[0m in \u001b[0;36mfit\u001b[0;34m(self, X, y, groups, **fit_params)\u001b[0m\n\u001b[1;32m    889\u001b[0m                 \u001b[0;32mreturn\u001b[0m \u001b[0mresults\u001b[0m\u001b[0;34m\u001b[0m\u001b[0;34m\u001b[0m\u001b[0m\n\u001b[1;32m    890\u001b[0m \u001b[0;34m\u001b[0m\u001b[0m\n\u001b[0;32m--> 891\u001b[0;31m             \u001b[0mself\u001b[0m\u001b[0;34m.\u001b[0m\u001b[0m_run_search\u001b[0m\u001b[0;34m(\u001b[0m\u001b[0mevaluate_candidates\u001b[0m\u001b[0;34m)\u001b[0m\u001b[0;34m\u001b[0m\u001b[0;34m\u001b[0m\u001b[0m\n\u001b[0m\u001b[1;32m    892\u001b[0m \u001b[0;34m\u001b[0m\u001b[0m\n\u001b[1;32m    893\u001b[0m             \u001b[0;31m# multimetric is determined here because in the case of a callable\u001b[0m\u001b[0;34m\u001b[0m\u001b[0;34m\u001b[0m\u001b[0;34m\u001b[0m\u001b[0m\n",
            "\u001b[0;32m/usr/local/lib/python3.7/dist-packages/sklearn/model_selection/_search.py\u001b[0m in \u001b[0;36m_run_search\u001b[0;34m(self, evaluate_candidates)\u001b[0m\n\u001b[1;32m   1766\u001b[0m         evaluate_candidates(\n\u001b[1;32m   1767\u001b[0m             ParameterSampler(\n\u001b[0;32m-> 1768\u001b[0;31m                 \u001b[0mself\u001b[0m\u001b[0;34m.\u001b[0m\u001b[0mparam_distributions\u001b[0m\u001b[0;34m,\u001b[0m \u001b[0mself\u001b[0m\u001b[0;34m.\u001b[0m\u001b[0mn_iter\u001b[0m\u001b[0;34m,\u001b[0m \u001b[0mrandom_state\u001b[0m\u001b[0;34m=\u001b[0m\u001b[0mself\u001b[0m\u001b[0;34m.\u001b[0m\u001b[0mrandom_state\u001b[0m\u001b[0;34m\u001b[0m\u001b[0;34m\u001b[0m\u001b[0m\n\u001b[0m\u001b[1;32m   1769\u001b[0m             )\n\u001b[1;32m   1770\u001b[0m         )\n",
            "\u001b[0;32m/usr/local/lib/python3.7/dist-packages/sklearn/model_selection/_search.py\u001b[0m in \u001b[0;36mevaluate_candidates\u001b[0;34m(candidate_params, cv, more_results)\u001b[0m\n\u001b[1;32m    849\u001b[0m                     )\n\u001b[1;32m    850\u001b[0m                     for (cand_idx, parameters), (split_idx, (train, test)) in product(\n\u001b[0;32m--> 851\u001b[0;31m                         \u001b[0menumerate\u001b[0m\u001b[0;34m(\u001b[0m\u001b[0mcandidate_params\u001b[0m\u001b[0;34m)\u001b[0m\u001b[0;34m,\u001b[0m \u001b[0menumerate\u001b[0m\u001b[0;34m(\u001b[0m\u001b[0mcv\u001b[0m\u001b[0;34m.\u001b[0m\u001b[0msplit\u001b[0m\u001b[0;34m(\u001b[0m\u001b[0mX\u001b[0m\u001b[0;34m,\u001b[0m \u001b[0my\u001b[0m\u001b[0;34m,\u001b[0m \u001b[0mgroups\u001b[0m\u001b[0;34m)\u001b[0m\u001b[0;34m)\u001b[0m\u001b[0;34m\u001b[0m\u001b[0;34m\u001b[0m\u001b[0m\n\u001b[0m\u001b[1;32m    852\u001b[0m                     )\n\u001b[1;32m    853\u001b[0m                 )\n",
            "\u001b[0;32m/usr/local/lib/python3.7/dist-packages/joblib/parallel.py\u001b[0m in \u001b[0;36m__call__\u001b[0;34m(self, iterable)\u001b[0m\n\u001b[1;32m   1054\u001b[0m \u001b[0;34m\u001b[0m\u001b[0m\n\u001b[1;32m   1055\u001b[0m             \u001b[0;32mwith\u001b[0m \u001b[0mself\u001b[0m\u001b[0;34m.\u001b[0m\u001b[0m_backend\u001b[0m\u001b[0;34m.\u001b[0m\u001b[0mretrieval_context\u001b[0m\u001b[0;34m(\u001b[0m\u001b[0;34m)\u001b[0m\u001b[0;34m:\u001b[0m\u001b[0;34m\u001b[0m\u001b[0;34m\u001b[0m\u001b[0m\n\u001b[0;32m-> 1056\u001b[0;31m                 \u001b[0mself\u001b[0m\u001b[0;34m.\u001b[0m\u001b[0mretrieve\u001b[0m\u001b[0;34m(\u001b[0m\u001b[0;34m)\u001b[0m\u001b[0;34m\u001b[0m\u001b[0;34m\u001b[0m\u001b[0m\n\u001b[0m\u001b[1;32m   1057\u001b[0m             \u001b[0;31m# Make sure that we get a last message telling us we are done\u001b[0m\u001b[0;34m\u001b[0m\u001b[0;34m\u001b[0m\u001b[0;34m\u001b[0m\u001b[0m\n\u001b[1;32m   1058\u001b[0m             \u001b[0melapsed_time\u001b[0m \u001b[0;34m=\u001b[0m \u001b[0mtime\u001b[0m\u001b[0;34m.\u001b[0m\u001b[0mtime\u001b[0m\u001b[0;34m(\u001b[0m\u001b[0;34m)\u001b[0m \u001b[0;34m-\u001b[0m \u001b[0mself\u001b[0m\u001b[0;34m.\u001b[0m\u001b[0m_start_time\u001b[0m\u001b[0;34m\u001b[0m\u001b[0;34m\u001b[0m\u001b[0m\n",
            "\u001b[0;32m/usr/local/lib/python3.7/dist-packages/joblib/parallel.py\u001b[0m in \u001b[0;36mretrieve\u001b[0;34m(self)\u001b[0m\n\u001b[1;32m    933\u001b[0m             \u001b[0;32mtry\u001b[0m\u001b[0;34m:\u001b[0m\u001b[0;34m\u001b[0m\u001b[0;34m\u001b[0m\u001b[0m\n\u001b[1;32m    934\u001b[0m                 \u001b[0;32mif\u001b[0m \u001b[0mgetattr\u001b[0m\u001b[0;34m(\u001b[0m\u001b[0mself\u001b[0m\u001b[0;34m.\u001b[0m\u001b[0m_backend\u001b[0m\u001b[0;34m,\u001b[0m \u001b[0;34m'supports_timeout'\u001b[0m\u001b[0;34m,\u001b[0m \u001b[0;32mFalse\u001b[0m\u001b[0;34m)\u001b[0m\u001b[0;34m:\u001b[0m\u001b[0;34m\u001b[0m\u001b[0;34m\u001b[0m\u001b[0m\n\u001b[0;32m--> 935\u001b[0;31m                     \u001b[0mself\u001b[0m\u001b[0;34m.\u001b[0m\u001b[0m_output\u001b[0m\u001b[0;34m.\u001b[0m\u001b[0mextend\u001b[0m\u001b[0;34m(\u001b[0m\u001b[0mjob\u001b[0m\u001b[0;34m.\u001b[0m\u001b[0mget\u001b[0m\u001b[0;34m(\u001b[0m\u001b[0mtimeout\u001b[0m\u001b[0;34m=\u001b[0m\u001b[0mself\u001b[0m\u001b[0;34m.\u001b[0m\u001b[0mtimeout\u001b[0m\u001b[0;34m)\u001b[0m\u001b[0;34m)\u001b[0m\u001b[0;34m\u001b[0m\u001b[0;34m\u001b[0m\u001b[0m\n\u001b[0m\u001b[1;32m    936\u001b[0m                 \u001b[0;32melse\u001b[0m\u001b[0;34m:\u001b[0m\u001b[0;34m\u001b[0m\u001b[0;34m\u001b[0m\u001b[0m\n\u001b[1;32m    937\u001b[0m                     \u001b[0mself\u001b[0m\u001b[0;34m.\u001b[0m\u001b[0m_output\u001b[0m\u001b[0;34m.\u001b[0m\u001b[0mextend\u001b[0m\u001b[0;34m(\u001b[0m\u001b[0mjob\u001b[0m\u001b[0;34m.\u001b[0m\u001b[0mget\u001b[0m\u001b[0;34m(\u001b[0m\u001b[0;34m)\u001b[0m\u001b[0;34m)\u001b[0m\u001b[0;34m\u001b[0m\u001b[0;34m\u001b[0m\u001b[0m\n",
            "\u001b[0;32m/usr/local/lib/python3.7/dist-packages/joblib/_parallel_backends.py\u001b[0m in \u001b[0;36mwrap_future_result\u001b[0;34m(future, timeout)\u001b[0m\n\u001b[1;32m    540\u001b[0m         AsyncResults.get from multiprocessing.\"\"\"\n\u001b[1;32m    541\u001b[0m         \u001b[0;32mtry\u001b[0m\u001b[0;34m:\u001b[0m\u001b[0;34m\u001b[0m\u001b[0;34m\u001b[0m\u001b[0m\n\u001b[0;32m--> 542\u001b[0;31m             \u001b[0;32mreturn\u001b[0m \u001b[0mfuture\u001b[0m\u001b[0;34m.\u001b[0m\u001b[0mresult\u001b[0m\u001b[0;34m(\u001b[0m\u001b[0mtimeout\u001b[0m\u001b[0;34m=\u001b[0m\u001b[0mtimeout\u001b[0m\u001b[0;34m)\u001b[0m\u001b[0;34m\u001b[0m\u001b[0;34m\u001b[0m\u001b[0m\n\u001b[0m\u001b[1;32m    543\u001b[0m         \u001b[0;32mexcept\u001b[0m \u001b[0mCfTimeoutError\u001b[0m \u001b[0;32mas\u001b[0m \u001b[0me\u001b[0m\u001b[0;34m:\u001b[0m\u001b[0;34m\u001b[0m\u001b[0;34m\u001b[0m\u001b[0m\n\u001b[1;32m    544\u001b[0m             \u001b[0;32mraise\u001b[0m \u001b[0mTimeoutError\u001b[0m \u001b[0;32mfrom\u001b[0m \u001b[0me\u001b[0m\u001b[0;34m\u001b[0m\u001b[0;34m\u001b[0m\u001b[0m\n",
            "\u001b[0;32m/usr/lib/python3.7/concurrent/futures/_base.py\u001b[0m in \u001b[0;36mresult\u001b[0;34m(self, timeout)\u001b[0m\n\u001b[1;32m    428\u001b[0m                 \u001b[0;32mreturn\u001b[0m \u001b[0mself\u001b[0m\u001b[0;34m.\u001b[0m\u001b[0m__get_result\u001b[0m\u001b[0;34m(\u001b[0m\u001b[0;34m)\u001b[0m\u001b[0;34m\u001b[0m\u001b[0;34m\u001b[0m\u001b[0m\n\u001b[1;32m    429\u001b[0m \u001b[0;34m\u001b[0m\u001b[0m\n\u001b[0;32m--> 430\u001b[0;31m             \u001b[0mself\u001b[0m\u001b[0;34m.\u001b[0m\u001b[0m_condition\u001b[0m\u001b[0;34m.\u001b[0m\u001b[0mwait\u001b[0m\u001b[0;34m(\u001b[0m\u001b[0mtimeout\u001b[0m\u001b[0;34m)\u001b[0m\u001b[0;34m\u001b[0m\u001b[0;34m\u001b[0m\u001b[0m\n\u001b[0m\u001b[1;32m    431\u001b[0m \u001b[0;34m\u001b[0m\u001b[0m\n\u001b[1;32m    432\u001b[0m             \u001b[0;32mif\u001b[0m \u001b[0mself\u001b[0m\u001b[0;34m.\u001b[0m\u001b[0m_state\u001b[0m \u001b[0;32min\u001b[0m \u001b[0;34m[\u001b[0m\u001b[0mCANCELLED\u001b[0m\u001b[0;34m,\u001b[0m \u001b[0mCANCELLED_AND_NOTIFIED\u001b[0m\u001b[0;34m]\u001b[0m\u001b[0;34m:\u001b[0m\u001b[0;34m\u001b[0m\u001b[0;34m\u001b[0m\u001b[0m\n",
            "\u001b[0;32m/usr/lib/python3.7/threading.py\u001b[0m in \u001b[0;36mwait\u001b[0;34m(self, timeout)\u001b[0m\n\u001b[1;32m    294\u001b[0m         \u001b[0;32mtry\u001b[0m\u001b[0;34m:\u001b[0m    \u001b[0;31m# restore state no matter what (e.g., KeyboardInterrupt)\u001b[0m\u001b[0;34m\u001b[0m\u001b[0;34m\u001b[0m\u001b[0m\n\u001b[1;32m    295\u001b[0m             \u001b[0;32mif\u001b[0m \u001b[0mtimeout\u001b[0m \u001b[0;32mis\u001b[0m \u001b[0;32mNone\u001b[0m\u001b[0;34m:\u001b[0m\u001b[0;34m\u001b[0m\u001b[0;34m\u001b[0m\u001b[0m\n\u001b[0;32m--> 296\u001b[0;31m                 \u001b[0mwaiter\u001b[0m\u001b[0;34m.\u001b[0m\u001b[0macquire\u001b[0m\u001b[0;34m(\u001b[0m\u001b[0;34m)\u001b[0m\u001b[0;34m\u001b[0m\u001b[0;34m\u001b[0m\u001b[0m\n\u001b[0m\u001b[1;32m    297\u001b[0m                 \u001b[0mgotit\u001b[0m \u001b[0;34m=\u001b[0m \u001b[0;32mTrue\u001b[0m\u001b[0;34m\u001b[0m\u001b[0;34m\u001b[0m\u001b[0m\n\u001b[1;32m    298\u001b[0m             \u001b[0;32melse\u001b[0m\u001b[0;34m:\u001b[0m\u001b[0;34m\u001b[0m\u001b[0;34m\u001b[0m\u001b[0m\n",
            "\u001b[0;31mKeyboardInterrupt\u001b[0m: "
          ]
        }
      ]
    },
    {
      "cell_type": "code",
      "source": [
        "from sklearn.metrics import mean_squared_error\n",
        "\n",
        "print('best params')\n",
        "print(model.best_params_)\n",
        "y_hat = model.predict(X_test)\n",
        "rmse_lgb = np.sqrt(mean_squared_error(y_test, preds_lgb_model))\n",
        "print(\" RMSE: %f\" % (rmse_lgb ))"
      ],
      "metadata": {
        "colab": {
          "base_uri": "https://localhost:8080/"
        },
        "outputId": "758d2504-0ee9-4bf0-c5ec-0e50ae8cac64",
        "id": "RS8kOAMjhl4W"
      },
      "execution_count": null,
      "outputs": [
        {
          "output_type": "stream",
          "name": "stdout",
          "text": [
            "best params\n",
            "{'reg_lambda': 0.001, 'reg_alpha': 0.01, 'num_leaves': 40, 'n_estimators': 100, 'min_split_gain': 10, 'min_child_samples': 20, 'max_depth': 100, 'learning_rate': 0.1}\n",
            " RMSE: 78.921898\n"
          ]
        }
      ]
    },
    {
      "cell_type": "code",
      "source": [
        "from sklearn.metrics import r2_score\n",
        "\n",
        "\n",
        "test_preds = model.predict(X_test)\n",
        "train_preds = model.predict(X_train)\n",
        "\n",
        "print(\"\\nTest R2 Score : %.2f\"%r2_score(y_test, test_preds))\n",
        "print(\"Train R2 Score : %.2f\"%r2_score(y_train, train_preds))"
      ],
      "metadata": {
        "colab": {
          "base_uri": "https://localhost:8080/"
        },
        "id": "PF6SlsqqivTm",
        "outputId": "b43b30a5-712e-4694-fc9b-26f479ad6d99"
      },
      "execution_count": null,
      "outputs": [
        {
          "output_type": "stream",
          "name": "stdout",
          "text": [
            "\n",
            "Test R2 Score : 0.19\n",
            "Train R2 Score : 0.80\n"
          ]
        }
      ]
    },
    {
      "cell_type": "markdown",
      "source": [
        "## Bayesian optimization"
      ],
      "metadata": {
        "id": "0f-AZG7AvwbQ"
      }
    },
    {
      "cell_type": "code",
      "source": [
        "import warnings\n",
        "warnings.filterwarnings(\"ignore\")\n",
        "\n",
        "from skopt import BayesSearchCV\n",
        "from skopt.callbacks import DeadlineStopper, DeltaYStopper\n",
        "from skopt.space import Real, Categorical, Integer\n",
        "from sklearn.model_selection import RepeatedStratifiedKFold\n",
        "from skopt import gp_minimize"
      ],
      "metadata": {
        "id": "DDr2QfZSv740"
      },
      "execution_count": null,
      "outputs": []
    },
    {
      "cell_type": "code",
      "source": [
        "search_spaces = {\n",
        "    'learning_rate': Real(0.0001, 1, 'log-uniform'),\n",
        "    'n_estimators': Integer(10, 100),\n",
        "    'subsample': Real(0.01, 1.0, 'uniform'),  \n",
        "    'num_leaves': Integer(2, 256),\n",
        "    'max_depth': Integer(-1, 512),\n",
        "    'subsample_freq': Integer(0, 1000),\n",
        "    'reg_alpha': Real(0.0, 1, 'uniform'),\n",
        "    'reg_lambda': Real(0.0, 1, 'uniform')\n",
        "    }  "
      ],
      "metadata": {
        "id": "_-OdRk6YwcTv"
      },
      "execution_count": null,
      "outputs": []
    },
    {
      "cell_type": "code",
      "source": [
        "import time\n",
        "start = time.time()\n",
        "\n",
        "model = lgb.LGBMRegressor(random_state = 42)\n",
        "model, pred = algorithm_pipeline(X_train, X_test, y_train, y_test, model, \n",
        "                 param_grid = search_spaces, \n",
        "                 search_mode = 'BayesSearchCV', \n",
        "                 cv = 5, n_iterations = 100)\n",
        "\n",
        "print(model.best_score_)\n",
        "print(model.best_params_)\n",
        "\n",
        "end = time.time()\n"
      ],
      "metadata": {
        "id": "LEHRpOe9wkV8",
        "colab": {
          "base_uri": "https://localhost:8080/"
        },
        "outputId": "0bf5f282-2f3d-40a7-ca02-974d3b2d45f3"
      },
      "execution_count": null,
      "outputs": [
        {
          "output_type": "stream",
          "name": "stdout",
          "text": [
            "-2040.1270283381077\n",
            "OrderedDict([('learning_rate', 0.26262369731330965), ('max_depth', -1), ('n_estimators', 77), ('num_leaves', 256), ('reg_alpha', 0.0), ('reg_lambda', 1.0), ('subsample', 0.9066201985111967), ('subsample_freq', 1000)])\n"
          ]
        }
      ]
    },
    {
      "cell_type": "code",
      "source": [
        "from sklearn.metrics import mean_squared_error\n",
        "\n",
        "print('best params:')\n",
        "print(model.best_params_)\n",
        "preds_lgb_model = model.predict(X_test)\n",
        "rmse_lgb = np.sqrt(mean_squared_error(y_test, preds_lgb_model))\n",
        "print(\" RMSE: %f\" % (rmse_lgb ))"
      ],
      "metadata": {
        "colab": {
          "base_uri": "https://localhost:8080/"
        },
        "id": "aQ4mP6iDjoZj",
        "outputId": "d04ebbe5-a436-49bf-d5ff-fa003776282b"
      },
      "execution_count": null,
      "outputs": [
        {
          "output_type": "stream",
          "name": "stdout",
          "text": [
            "best params:\n",
            "OrderedDict([('learning_rate', 0.26262369731330965), ('max_depth', -1), ('n_estimators', 77), ('num_leaves', 256), ('reg_alpha', 0.0), ('reg_lambda', 1.0), ('subsample', 0.9066201985111967), ('subsample_freq', 1000)])\n",
            " RMSE: 76.065987\n"
          ]
        }
      ]
    },
    {
      "cell_type": "code",
      "source": [
        "from sklearn.metrics import r2_score\n",
        "\n",
        "test_preds = model.predict(X_test)\n",
        "train_preds = model.predict(X_train)\n",
        "\n",
        "print(\"\\nTest R2 Score : %.2f\"%r2_score(y_test, test_preds))\n",
        "print(\"Train R2 Score : %.2f\"%r2_score(y_train, train_preds))"
      ],
      "metadata": {
        "colab": {
          "base_uri": "https://localhost:8080/"
        },
        "id": "9iZweNSNkauj",
        "outputId": "7a9adcec-b083-4cfe-b7f6-7b44e96b13d1"
      },
      "execution_count": null,
      "outputs": [
        {
          "output_type": "stream",
          "name": "stdout",
          "text": [
            "\n",
            "Test R2 Score : 0.25\n",
            "Train R2 Score : 0.84\n"
          ]
        }
      ]
    },
    {
      "cell_type": "markdown",
      "source": [
        "# Nested cross validation with BayesSearchCV"
      ],
      "metadata": {
        "id": "_iQNSdPeE1m3"
      }
    },
    {
      "cell_type": "code",
      "source": [
        "# Loading required packages\n",
        "from numpy import mean\n",
        "from numpy import std\n",
        "from sklearn.datasets import make_classification\n",
        "from sklearn.model_selection import KFold\n",
        "from sklearn.model_selection import GridSearchCV\n",
        "from sklearn.ensemble import RandomForestClassifier\n",
        "from sklearn.metrics import r2_score\n",
        "\n",
        "# Define the model\n",
        "model = lgb.LGBMRegressor(random_state = 42)\n",
        "\n",
        "# define search space\n",
        "search_spaces = {\n",
        "    'learning_rate': Real(0.001, 1, 'log-uniform'),\n",
        "    'n_estimators': Integer(10, 1000),\n",
        "    'subsample': Real(0.01, 1.0, 'uniform'),  \n",
        "    'num_leaves': Integer(2, 256),\n",
        "    'max_depth': Integer(-1, 512),\n",
        "    'subsample_freq': Integer(0, 1000),\n",
        "    'reg_alpha': Real(0.0, 1, 'uniform'),\n",
        "    'reg_lambda': Real(0.0, 1, 'uniform')\n",
        "    }  \n",
        "\n",
        "# configure the cross-validation procedure\n",
        "cv_outer = KFold(n_splits=5, shuffle=True, random_state = 1)\n",
        "\n",
        "# enumerate splits\n",
        "outer_results = list()\n",
        "best_params = list()\n",
        "\n",
        "# Loop for each round\n",
        "for train_ix, test_ix in cv_outer.split(X):\n",
        "  \n",
        "  # Split data\n",
        "  X_train, X_test = X.iloc[train_ix, :], X.iloc[test_ix, :]\n",
        "  y_train, y_test = y.iloc[train_ix], y.iloc[test_ix]\n",
        "\n",
        "  # Define both cross-validation objects (inner & outer)\n",
        "  cv_inner = KFold(n_splits=5, shuffle=True, random_state = 1)\n",
        "\n",
        "  # Define the model\n",
        "  model = lgb.LGBMRegressor(random_state = 42)\n",
        "\n",
        "  # define search\n",
        "  bs = BayesSearchCV(\n",
        "        estimator = model,\n",
        "        search_spaces = search_spaces,\n",
        "        cv = cv_inner,\n",
        "        n_iter = 50,\n",
        "        n_jobs = -1,\n",
        "        refit  =True,\n",
        "        scoring = \"neg_mean_squared_error\",\n",
        "        random_state = 42\n",
        "    )\n",
        "  # execute search\n",
        "  result = bs.fit(X_train, y_train)\n",
        "\n",
        "  # get the best parameters on the whole training set\n",
        "  best_model = result.best_estimator_\n",
        "\n",
        "  # evaluate model on the hold out dataset\n",
        "  y_pre = best_model.predict(X_train)\n",
        "  y_hat = best_model.predict(X_test)\n",
        "\n",
        "  # evalaute the model\n",
        "  r_square_pre = r2_score(y_train, y_pre)\n",
        "  r_square_hat = r2_score(y_test, y_hat)\n",
        "\n",
        "  # store the result\n",
        "  #outer_results.append(r_square_pre)\n",
        "  outer_results.append(r_square_hat)\n",
        "  best_params.append(result.best_params_)\n",
        "  # report progress\n",
        "  print('>r2=%.3f, est=%.3f, cfg=%s' % (r_square_hat, r_square_pre, result.best_params_))\n",
        "\n",
        " ## loop end here-----------------------------------------------------------\n"
      ],
      "metadata": {
        "id": "dBqs5wUvE4DC",
        "colab": {
          "base_uri": "https://localhost:8080/"
        },
        "outputId": "999d8b15-bbd8-4429-faf9-1c265772711d"
      },
      "execution_count": null,
      "outputs": [
        {
          "output_type": "stream",
          "name": "stdout",
          "text": [
            ">r2=-0.221, est=0.732, cfg=OrderedDict([('learning_rate', 0.013062771342669609), ('max_depth', 284), ('n_estimators', 525), ('num_leaves', 169), ('reg_alpha', 0.5179183866936355), ('reg_lambda', 1.0), ('subsample', 0.2740959189197519), ('subsample_freq', 0)])\n",
            ">r2=-5.849, est=0.786, cfg=OrderedDict([('learning_rate', 0.03640323638356523), ('max_depth', 336), ('n_estimators', 300), ('num_leaves', 59), ('reg_alpha', 0.9623244236004678), ('reg_lambda', 0.5891255697155572), ('subsample', 0.8392875064598487), ('subsample_freq', 9)])\n",
            ">r2=0.542, est=0.587, cfg=OrderedDict([('learning_rate', 0.006259728927131546), ('max_depth', 510), ('n_estimators', 798), ('num_leaves', 6), ('reg_alpha', 1.0), ('reg_lambda', 0.0), ('subsample', 1.0), ('subsample_freq', 0)])\n",
            ">r2=-0.047, est=0.035, cfg=OrderedDict([('learning_rate', 0.0022807839811021884), ('max_depth', 374), ('n_estimators', 978), ('num_leaves', 256), ('reg_alpha', 0.0), ('reg_lambda', 0.0), ('subsample', 0.2910924054565741), ('subsample_freq', 1000)])\n",
            ">r2=0.123, est=0.962, cfg=OrderedDict([('learning_rate', 0.16768615076680107), ('max_depth', -1), ('n_estimators', 628), ('num_leaves', 81), ('reg_alpha', 0.627714205650755), ('reg_lambda', 0.0), ('subsample', 0.7772137745715338), ('subsample_freq', 583)])\n"
          ]
        }
      ]
    },
    {
      "cell_type": "code",
      "source": [
        "# summarize the estimated performance of the model\n",
        "print('r2: %.3f (%3f)' % (mean(outer_results), std(outer_results)))\n"
      ],
      "metadata": {
        "id": "g85ADYkiTtoG",
        "colab": {
          "base_uri": "https://localhost:8080/"
        },
        "outputId": "1a640137-768f-480b-c9e7-a1c8c1017734"
      },
      "execution_count": null,
      "outputs": [
        {
          "output_type": "stream",
          "name": "stdout",
          "text": [
            "r2: -1.091 (2.392560)\n"
          ]
        }
      ]
    },
    {
      "cell_type": "code",
      "source": [
        "hyper_params = {\n",
        "    'learning_rate': 0.006259728927131546,\n",
        "    'n_estimators': 798,\n",
        "    'subsample': 1,\n",
        "    \"subsample_freq\":0,\n",
        "    \"max_depth\": 510,\n",
        "    \"num_leaves\": 6,  \n",
        "    \"reg_lambda\": 0.0,\n",
        "    \"reg_alpha\": 1.0,\n",
        "    \"random_state\": 42\n",
        "} "
      ],
      "metadata": {
        "id": "W__kOm4iRbe6"
      },
      "execution_count": null,
      "outputs": []
    },
    {
      "cell_type": "code",
      "source": [
        "model = lgb.LGBMRegressor(**best_params[2])\n",
        "model.fit(X_train, y_train)\n",
        "y_hat=model.predict(X)\n",
        "r_square_hat = r2_score(y, y_hat)\n",
        "r_square_hat"
      ],
      "metadata": {
        "colab": {
          "base_uri": "https://localhost:8080/"
        },
        "id": "xMILEahMQUGy",
        "outputId": "9d26d9a2-161a-46ff-c925-6ed1b470eed7"
      },
      "execution_count": null,
      "outputs": [
        {
          "output_type": "execute_result",
          "data": {
            "text/plain": [
              "0.6056612597923832"
            ]
          },
          "metadata": {},
          "execution_count": 101
        }
      ]
    },
    {
      "cell_type": "markdown",
      "source": [
        "# Nested cross validation with Baysian Optimization"
      ],
      "metadata": {
        "id": "h2oZRVqRf5bA"
      }
    },
    {
      "cell_type": "code",
      "source": [
        "# manually tune svm model hyperparameters using skopt on the ionosphere dataset\n",
        "from numpy import mean\n",
        "from pandas import read_csv\n",
        "from sklearn.model_selection import cross_val_score\n",
        "from sklearn.model_selection import RepeatedStratifiedKFold\n",
        "from sklearn.model_selection import KFold\n",
        "from skopt.space import Integer\n",
        "from skopt.space import Real\n",
        "from skopt.space import Categorical\n",
        "from skopt.utils import use_named_args\n",
        "from skopt import gp_minimize\n",
        "\n",
        "\n",
        "# Define the search space of hyperparameters\n",
        "search_space = list()\n",
        "search_space.append(Real(1e-4, 1, 'log-uniform', name = 'learning_rate'))\n",
        "search_space.append(Real(1e-2, 1, 'uniform', name = 'subsample'))\n",
        "search_space.append(Real(0, 1, 'uniform', name = 'reg_alpha'))\n",
        "search_space.append(Real(0, 1, 'uniform', name = 'reg_lambda'))\n",
        "search_space.append(Integer(-1, 512, name = 'max_depth'))\n",
        "search_space.append(Integer(2, 256, name = 'num_leaves'))\n",
        "search_space.append(Integer(1e1, 1e3, name = 'n_estimators'))\n",
        "search_space.append(Integer(0, 1e3, name = 'subsample_freq'))\n",
        "\n",
        "# Define the function used to evalaute a given configuration\n",
        "@use_named_args(search_space)\n",
        "def evaluate_model (**params):\n",
        "  # configure the model with specific hyperparameters\n",
        "  model = lgb.LGBMRegressor()\n",
        "  model.set_params(**params)\n",
        "  \n",
        "  # define test harness\n",
        "  cv_inner = KFold(n_splits=5, shuffle=True, random_state = 1)\n",
        " \n",
        "  # execute the nested cross-validation\n",
        "  results = cross_val_score(model, X, y,\n",
        "                scoring = 'neg_mean_absolute_error', \n",
        "                cv=cv_inner, n_jobs=-1)\n",
        "  # calculate the mean of the scores\n",
        "  scores = -np.mean(results)\n",
        "  \n",
        "  return np.sqrt(scores)\n",
        "\n",
        "# perform optimzation\n",
        "result = gp_minimize(evaluate_model, search_space)\n",
        "\n",
        "# summarizing finding:\n",
        "print('Best Accuracy: %.3f' % (result.fun))\n",
        "print('Best Parameters: %s' % (result.x))\n"
      ],
      "metadata": {
        "colab": {
          "base_uri": "https://localhost:8080/"
        },
        "id": "pWKiGOGdrJao",
        "outputId": "a5d88a21-34a0-4d69-c0dd-0a512c382931"
      },
      "execution_count": null,
      "outputs": [
        {
          "output_type": "stream",
          "name": "stdout",
          "text": [
            "Best Accuracy: 4.940\n",
            "Best Parameters: [0.0036518362610079803, 0.8701090015474595, 0.6731934729828777, 0.6869998383300765, 482, 229, 723, 467]\n"
          ]
        }
      ]
    },
    {
      "cell_type": "markdown",
      "source": [
        "# Scatter plot"
      ],
      "metadata": {
        "id": "1VMD80rCvaOz"
      }
    },
    {
      "cell_type": "code",
      "source": [
        "# prediction\n",
        "y_hat = model.predict(X)\n",
        "r_square_pre = r2_score(y, y_hat)\n",
        "print(np.sqrt(r_square_pre))"
      ],
      "metadata": {
        "colab": {
          "base_uri": "https://localhost:8080/"
        },
        "id": "TO0FfZtaCrJw",
        "outputId": "c627add2-8426-40ab-b01e-2e1970aaebfe"
      },
      "execution_count": null,
      "outputs": [
        {
          "output_type": "stream",
          "name": "stdout",
          "text": [
            "0.7782424171120353\n"
          ]
        }
      ]
    },
    {
      "cell_type": "code",
      "source": [
        "import numpy as np\n",
        "import matplotlib.pyplot as plt\n",
        "import matplotlib.lines as mlines\n",
        "import matplotlib.transforms as mtransforms\n",
        "\n",
        "\n",
        "def scatterplot(x, y):\n",
        "  fig, ax = plt.subplots(figsize = (5,6))\n",
        "  \n",
        "  # define a scatter plot\n",
        "  ax.scatter(x, y, alpha=0.7, c='black')\n",
        "\n",
        "  line = mlines.Line2D([0, 1], [0, 1], color='red')\n",
        "  transform = ax.transAxes\n",
        "  line.set_transform(transform)\n",
        "  ax.add_line(line)\n",
        "\n",
        "  # add title and aces labels\n",
        "  ax.set_title ('')\n",
        "  ax.set_xlabel ('Log CL in silico-derived', fontsize=16, fontweight='bold')\n",
        "  ax.set_ylabel ('Log CL in vivo-derived', fontsize=16, fontweight='bold')\n",
        "  ax.set_xlim(-2, 4)\n",
        "  ax.set_ylim(-2, 4)\n",
        "\n",
        "  # remove the top and right borders\n",
        "  ax.spines['top'].set_visible(False)\n",
        "  ax.spines['right'].set_visible(False)\n",
        "  ax.spines['left'].set_linewidth(2.5)\n",
        "  ax.spines['bottom'].set_linewidth(2.5)\n",
        "  plt.xticks(fontsize=16)\n",
        "  plt.yticks(fontsize=16)\n",
        "\n",
        "  # adds major gridlines\n",
        "  ax.grid(color='grey', linestyle='-', linewidth=0.25, alpha = 0.5)\n",
        "  plt.show()\n",
        "\n",
        "scatterplot(np.log10(y), np.log10(y_hat))"
      ],
      "metadata": {
        "colab": {
          "base_uri": "https://localhost:8080/",
          "height": 404
        },
        "id": "agWFqrytvNWm",
        "outputId": "d6727539-58bd-4d85-a5c0-5ee33f842fa4"
      },
      "execution_count": null,
      "outputs": [
        {
          "output_type": "display_data",
          "data": {
            "image/png": "[encoded data removed]",
            "text/plain": [
              "<Figure size 360x432 with 1 Axes>"
            ]
          },
          "metadata": {
            "needs_background": "light"
          }
        }
      ]
    },
    {
      "cell_type": "code",
      "source": [
        ""
      ],
      "metadata": {
        "id": "96zGTjN4COt4"
      },
      "execution_count": null,
      "outputs": []
    }
  ]
}